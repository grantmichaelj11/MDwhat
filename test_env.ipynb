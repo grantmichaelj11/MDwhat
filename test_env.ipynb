{
 "cells": [
  {
   "cell_type": "code",
   "execution_count": 1,
   "metadata": {},
   "outputs": [],
   "source": [
    "from MDwhat import Integrators, ForceFields, Simulation"
   ]
  },
  {
   "cell_type": "markdown",
   "metadata": {},
   "source": [
    "Create Simulation Box"
   ]
  },
  {
   "cell_type": "code",
   "execution_count": 2,
   "metadata": {},
   "outputs": [],
   "source": [
    "Lx = 10\n",
    "Ly = 10\n",
    "Lz = 10\n",
    "\n",
    "box = Simulation.CreateBox(Lx, Ly, Lz)\n",
    "box.insert_atom(0, 0, 0, 'He')\n",
    "box.insert_atom(5, 0, 0, 'He')\n",
    "box.insert_atom(0, 5, 0, 'He')\n",
    "box.insert_atom(0, 0, 5, 'He')\n",
    "box.insert_atom(5, 5, 0, 'He')"
   ]
  },
  {
   "cell_type": "markdown",
   "metadata": {},
   "source": [
    "Add Forcefield"
   ]
  },
  {
   "cell_type": "code",
   "execution_count": 3,
   "metadata": {},
   "outputs": [],
   "source": [
    "forcefields = []\n",
    "\n",
    "#He-He\n",
    "forcefields.append(ForceFields.LJ_12_6('He', 'He', 3.4, 0.3943595, 6))"
   ]
  },
  {
   "cell_type": "markdown",
   "metadata": {},
   "source": [
    "Create Objects Needed for Iterative Simulation"
   ]
  },
  {
   "cell_type": "code",
   "execution_count": 4,
   "metadata": {},
   "outputs": [],
   "source": [
    "simulation = Simulation.InitializeSimulation(box, forcefields)\n",
    "simulation.set_velocities(box, 300)"
   ]
  },
  {
   "cell_type": "code",
   "execution_count": 5,
   "metadata": {},
   "outputs": [
    {
     "name": "stdout",
     "output_type": "stream",
     "text": [
      "[{'id': 1, 'atom': 'He', 'mass': 4.0026, 'x': 0, 'y': 0, 'z': 0, 'vx': -0.5645981056458879, 'vy': 0.21616467092951333, 'vz': 0.18116033094919837, 'fx': 0, 'fy': 0, 'fz': 0}, {'id': 2, 'atom': 'He', 'mass': 4.0026, 'x': 5, 'y': 0, 'z': 0, 'vx': 0.02797617020075553, 'vy': 0.4553831293909966, 'vz': -0.58204171895905, 'fx': 0, 'fy': 0, 'fz': 0}, {'id': 3, 'atom': 'He', 'mass': 4.0026, 'x': 0, 'y': 5, 'z': 0, 'vx': -0.5430629303466006, 'vy': -0.19921675073028428, 'vz': 0.1896149940979042, 'fx': 0, 'fy': 0, 'fz': 0}, {'id': 4, 'atom': 'He', 'mass': 4.0026, 'x': 0, 'y': 0, 'z': 5, 'vx': 0.1253700581688842, 'vy': 0.4980962391291755, 'vz': -0.3397104651421493, 'fx': 0, 'fy': 0, 'fz': 0}, {'id': 5, 'atom': 'He', 'mass': 4.0026, 'x': 5, 'y': 5, 'z': 0, 'vx': 0.12013630120297328, 'vy': -0.10071087942367937, 'vz': 0.25987968799920963, 'fx': 0, 'fy': 0, 'fz': 0}]\n"
     ]
    }
   ],
   "source": [
    " print(simulation.details.atoms)"
   ]
  },
  {
   "cell_type": "markdown",
   "metadata": {},
   "source": [
    "Run simulation"
   ]
  },
  {
   "cell_type": "code",
   "execution_count": 6,
   "metadata": {},
   "outputs": [],
   "source": [
    "dt = 2 # femtoseconds\n",
    "integrator = Integrators.VelocityVerlet(dt, simulation.details.atoms, simulation.pairwise_list)\n",
    "\n",
    "simulation.run(integrator, 10)"
   ]
  },
  {
   "cell_type": "code",
   "execution_count": 7,
   "metadata": {},
   "outputs": [
    {
     "name": "stdout",
     "output_type": "stream",
     "text": [
      "[{'id': 1, 'atom': 'He', 'mass': 4.0026, 'x': -1.0112026292656426, 'y': 0.5503229238851597, 'z': 0.47432518302429105, 'vx': -0.3482164933972617, 'vy': 0.792773435815279, 'vz': 0.6311749719664443, 'fx': 0, 'fy': 0, 'fz': 0}, {'id': 2, 'atom': 'He', 'mass': 4.0026, 'x': 4.9319696974751395, 'y': 1.0287598408081262, 'z': -1.158094377017861, 'vx': -0.033831265955956785, 'vy': 0.8519884680388126, 'vz': -0.4173693239867916, 'fx': 0, 'fy': 0, 'fz': 0}, {'id': 3, 'atom': 'He', 'mass': 4.0026, 'x': -0.9681322786670681, 'y': 4.47758385561306, 'z': 0.38521904909604715, 'vx': -0.4647687596327955, 'vy': -0.7516586947145332, 'vz': 0.2279158780798583, 'fx': 0, 'fy': 0, 'fz': 0}, {'id': 4, 'atom': 'He', 'mass': 4.0026, 'x': 0.2578921211778205, 'y': 1.003344483098403, 'z': 4.195433482849516, 'vx': -0.012782412566445744, 'vy': 0.4773829075829255, 'vz': -0.8404155439734243, 'fx': 0, 'fy': 0, 'fz': 0}, {'id': 5, 'atom': 'He', 'mass': 4.0026, 'x': 5.12111607644, 'y': 4.679421715186695, 'z': 0.5209223199382326, 'vx': 0.025420425132584343, 'vy': -0.5007697074267622, 'vz': 0.10759684685902612, 'fx': 0, 'fy': 0, 'fz': 0}]\n"
     ]
    }
   ],
   "source": [
    "print(simulation.details.atoms)"
   ]
  }
 ],
 "metadata": {
  "kernelspec": {
   "display_name": "chmp753",
   "language": "python",
   "name": "python3"
  },
  "language_info": {
   "codemirror_mode": {
    "name": "ipython",
    "version": 3
   },
   "file_extension": ".py",
   "mimetype": "text/x-python",
   "name": "python",
   "nbconvert_exporter": "python",
   "pygments_lexer": "ipython3",
   "version": "3.9.18"
  }
 },
 "nbformat": 4,
 "nbformat_minor": 2
}
